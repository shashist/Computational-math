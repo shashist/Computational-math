{
 "cells": [
  {
   "cell_type": "markdown",
   "metadata": {
    "colab_type": "text",
    "id": "KV9MaiONB8Yh"
   },
   "source": [
    "Решить методами Гаусса и Зейделя, найти $\\lambda_{min}$ и $\\lambda_{max}$, определить число обусловленности матрицы $\\mu = \\|A\\| \\cdot \\|A^{-1}\\|$. Сделать печать невязок обоих методов. Указать критерий останова итераций метода Зейделя."
   ]
  },
  {
   "cell_type": "code",
   "execution_count": 1,
   "metadata": {},
   "outputs": [],
   "source": [
    "from math import sqrt, inf\n",
    "import numpy as np\n",
    "from numpy.linalg import cond, eigvals, inv, norm\n",
    "\n",
    "import matplotlib.pyplot as plt\n",
    "%matplotlib inline\n",
    "\n",
    "ITERATION_LIMIT = 1000"
   ]
  },
  {
   "cell_type": "code",
   "execution_count": 2,
   "metadata": {
    "colab": {
     "base_uri": "https://localhost:8080/",
     "height": 370
    },
    "colab_type": "code",
    "id": "jtgEBHrOB8Yk",
    "outputId": "45c2eca7-64b3-49e4-cfd3-cf6c141b4983"
   },
   "outputs": [
    {
     "name": "stdout",
     "output_type": "stream",
     "text": [
      "[[ 11   1   0 ...   0   0   0]\n",
      " [  1  12   1 ...   0   0   0]\n",
      " [  0   1  13 ...   0   0   0]\n",
      " ...\n",
      " [  0   0   0 ... 107   1   0]\n",
      " [  0   0   0 ...   1 108   1]\n",
      " [  1   2   2 ...   2   2   1]]\n",
      "(99, 99)\n"
     ]
    }
   ],
   "source": [
    "def tridiag(a, b, c, k1=-1, k2=0, k3=1):\n",
    "    return np.diag(a, k1) + np.diag(b, k2) + np.diag(c, k3)\n",
    "\n",
    "a = [1] * 98\n",
    "b = [10+i for i in range(1, 100)]\n",
    "c = [1] * 98\n",
    "\n",
    "A = tridiag(a, b, c)\n",
    "A[-1] = [1] + [2] * 97 + [1]\n",
    "\n",
    "b = np.array([i/99. for i in range(1, 100)])\n",
    "\n",
    "extended_A = np.hstack((A, b.reshape(-1, 1)))\n",
    "\n",
    "print(np.matrix(A))\n",
    "print(A.shape)"
   ]
  },
  {
   "cell_type": "markdown",
   "metadata": {},
   "source": [
    "Посмотрим на собственные числа и обусловленность матрицы"
   ]
  },
  {
   "cell_type": "code",
   "execution_count": 10,
   "metadata": {
    "colab": {
     "base_uri": "https://localhost:8080/",
     "height": 34
    },
    "colab_type": "code",
    "id": "ol-fst18B8ZD",
    "outputId": "ffdb4414-2fa8-4dbd-b1da-5f702df29839"
   },
   "outputs": [
    {
     "name": "stdout",
     "output_type": "stream",
     "text": [
      "0.020820398028589884 -0.018655700527825145\n"
     ]
    }
   ],
   "source": [
    "print(max(np.linalg.eigvals(K)).real, min(np.linalg.eigvals(K)).real)"
   ]
  },
  {
   "cell_type": "markdown",
   "metadata": {
    "colab_type": "text",
    "id": "h3bixxAQB8ZI"
   },
   "source": [
    "$\\lambda_{max} \\approx 0.0208,\\ \\lambda_{min} \\approx -0.0187$"
   ]
  },
  {
   "cell_type": "code",
   "execution_count": 11,
   "metadata": {},
   "outputs": [
    {
     "name": "stdout",
     "output_type": "stream",
     "text": [
      "Число обусловленности:  124.81872840465405\n"
     ]
    }
   ],
   "source": [
    "print('Число обусловленности: ', cond(A))"
   ]
  },
  {
   "cell_type": "markdown",
   "metadata": {
    "colab_type": "text",
    "id": "hTYZ1tuKB8Yx"
   },
   "source": [
    "## 1. Метод Гаусса"
   ]
  },
  {
   "cell_type": "code",
   "execution_count": 5,
   "metadata": {},
   "outputs": [],
   "source": [
    "def triu_gauss(A, m):\n",
    "    x = np.ones(m)\n",
    "    for i in range(m-1, -1, -1):\n",
    "        x[i] = A[i][m] / A[i][i]\n",
    "        for j in range(i-1, -1, -1):\n",
    "            A[j][m] -= A[j][i] * x[i]\n",
    "    return x\n",
    "\n",
    "def gauss(A_b):\n",
    "    m = len(A_b)\n",
    "    for k in range(m):\n",
    "        for i in range(k + 1, m):\n",
    "            coef = A_b[i][k] / A_b[k][k]\n",
    "            for j in range(k + 1, m + 1):\n",
    "                A_b[i][j] -= A_b[k][j] * coef\n",
    "            A_b[i][k] = 0\n",
    "    return triu_gauss(A_b, m)"
   ]
  },
  {
   "cell_type": "code",
   "execution_count": 6,
   "metadata": {},
   "outputs": [
    {
     "name": "stdout",
     "output_type": "stream",
     "text": [
      "Норма невязки:  6.10188828559375e-16\n"
     ]
    }
   ],
   "source": [
    "x_gauss = gauss(extended_A.copy())\n",
    "error_gauss = np.dot(A, x_gauss) - b\n",
    "\n",
    "# print('Решение: ', x_gauss)\n",
    "# print('Невязка: ', error_gauss)\n",
    "print('Норма невязки: ', norm(error_gauss))"
   ]
  },
  {
   "cell_type": "markdown",
   "metadata": {
    "colab_type": "text",
    "id": "msvZzbnKB8Y8"
   },
   "source": [
    "## 2. Метод Зейделя"
   ]
  },
  {
   "cell_type": "code",
   "execution_count": 7,
   "metadata": {
    "code_folding": []
   },
   "outputs": [],
   "source": [
    "def seidel(A, b, eps=1e-10, verbose=False, max_iter=ITERATION_LIMIT):\n",
    "    q = norm(K, 2)\n",
    "    if q >= 1:\n",
    "        raise ValueError(\"Норма матрицы={} > 1, не применим оптимальный критерий останова\".\n",
    "                        format(q))    \n",
    "\n",
    "    n = len(A)\n",
    "    x = np.zeros_like(b)\n",
    "    \n",
    "    for j in range(1, max_iter):\n",
    "        x_new = np.copy(x)\n",
    "        for i in range(n):\n",
    "            s1 = sum(A[i][j] * x_new[j] for j in range(i))\n",
    "            s2 = sum(A[i][j] * x[j] for j in range(i + 1, n))\n",
    "            x_new[i] = (b[i] - s1 - s2) / A[i][i]\n",
    "\n",
    "        if q ** j / (1-q) < eps:\n",
    "            if verbose:\n",
    "                print('Потребовалось ', j, ' итераций')\n",
    "            return x_new\n",
    "        x = x_new\n",
    "    \n",
    "    raise ValueError(\"Не сходится за данное число итераций\")"
   ]
  },
  {
   "cell_type": "code",
   "execution_count": 8,
   "metadata": {},
   "outputs": [
    {
     "name": "stdout",
     "output_type": "stream",
     "text": [
      "Потребовалось  62  итераций\n",
      "MAE невязки:  5.857100574038117e-16\n"
     ]
    }
   ],
   "source": [
    "x_seidel = seidel(A, b, eps=1e-16, verbose=True)\n",
    "error_seidel = np.dot(A, x_seidel) - b\n",
    "\n",
    "# print('Решение: ', x_seidel)\n",
    "# print('Невязка: ', error_seidel)\n",
    "print('MAE невязки: ', norm(error_seidel))"
   ]
  },
  {
   "cell_type": "markdown",
   "metadata": {},
   "source": [
    "Посмотрим, как зависит норма невязки от значений $\\varepsilon$"
   ]
  },
  {
   "cell_type": "code",
   "execution_count": 14,
   "metadata": {},
   "outputs": [],
   "source": [
    "tols = np.linspace(1e-15, 0.01, 1000)\n",
    "maes = [norm(np.dot(A, seidel(A, b, eps=tol)) - b) for tol in tols]"
   ]
  },
  {
   "cell_type": "code",
   "execution_count": 43,
   "metadata": {},
   "outputs": [
    {
     "data": {
      "image/png": "[encoded data removed]",
      "text/plain": [
       "<Figure size 576x360 with 1 Axes>"
      ]
     },
     "metadata": {
      "needs_background": "light"
     },
     "output_type": "display_data"
    }
   ],
   "source": [
    "plt.figure(figsize=(8, 5))\n",
    "plt.title(\"График зависимости $MAE$ невязки от $\\\\varepsilon$\")\n",
    "plt.xlabel('$\\\\varepsilon$')\n",
    "plt.ylabel('$MAE$')\n",
    "plt.ylim(-1e-14, 3e-13)\n",
    "plt.xlim(0, 8e-3)\n",
    "plt.grid()\n",
    "plt.scatter(tols, maes, s=5);"
   ]
  },
  {
   "cell_type": "markdown",
   "metadata": {},
   "source": [
    "Сходимость имеет ступенчатый вид, причём видно, что на нашей системе алгоритм очень быстро приблизился к точному решению "
   ]
  },
  {
   "cell_type": "markdown",
   "metadata": {
    "colab_type": "text",
    "id": "TTUTmTevB8ZX"
   },
   "source": [
    "## 3. Метод последовательной верхней релаксации"
   ]
  },
  {
   "cell_type": "markdown",
   "metadata": {
    "colab_type": "text",
    "id": "5COCQ74rWchy"
   },
   "source": [
    "$$\\mathbf {x} ^{(k+1)}=(D+\\omega L)^{-1}{\\big ((1 - \\omega)D - \\omega U {\\big )}\\mathbf {x} ^{(k)} + \\omega (D+\\omega L)^{-1}} \\mathbf {b} = K\\mathbf {x} ^{(k)} + F$$"
   ]
  },
  {
   "cell_type": "code",
   "execution_count": 45,
   "metadata": {},
   "outputs": [],
   "source": [
    "def relaxation(A, b, w, verbose=False, max_iter=ITERATION_LIMIT, return_val='x'):\n",
    "    L = np.tril(A, k=-1)\n",
    "    D = np.diag(np.diag(A))\n",
    "    U = np.triu(A, k=1)\n",
    "\n",
    "    Q = np.linalg.inv(D + w * L)\n",
    "    K = np.dot(Q,((1.0 - w) * D - w * U))\n",
    "    F = w*np.dot(Q, b)\n",
    "    \n",
    "    q = norm(K, 2)\n",
    "    if q >= 1:\n",
    "        raise ValueError(\"Норма матрицы={} > 1, не применим оптимальный критерий останова\".\n",
    "                        format(q))\n",
    "    \n",
    "    x = np.zeros_like(b)\n",
    "    x_1 = np.dot(K, x) + F\n",
    "    n = len(b)\n",
    "    for j in range(1, max_iter):\n",
    "        x_new = np.dot(K, x) + F\n",
    "        if q ** j / (1-q) < 1e-15:\n",
    "            if verbose:\n",
    "                print('Потребовалось ', j, ' итераций')\n",
    "            if return_val == 'x':\n",
    "                return x\n",
    "            elif return_val == 'j':\n",
    "                return j\n",
    "        x = x_new\n",
    "    raise ValueError(\"Не сходится за данное число итераций\")"
   ]
  },
  {
   "cell_type": "markdown",
   "metadata": {},
   "source": [
    "Найдём оптимальное $w$ простым перебором от 1.0 до 1.2 (после $w=1.02$ алгоритм перестаёт сходиться)"
   ]
  },
  {
   "cell_type": "code",
   "execution_count": 46,
   "metadata": {},
   "outputs": [
    {
     "name": "stdout",
     "output_type": "stream",
     "text": [
      "1.0 \t - \t 58\n",
      "1.0001005025125629 \t - \t 58\n",
      "1.0002010050251255 \t - \t 59\n",
      "1.0003015075376884 \t - \t 59\n",
      "1.0004020100502513 \t - \t 59\n",
      "1.000502512562814 \t - \t 60\n",
      "1.0006030150753769 \t - \t 60\n",
      "1.0007035175879397 \t - \t 60\n",
      "1.0008040201005026 \t - \t 61\n",
      "1.0009045226130653 \t - \t 61\n",
      "1.0010050251256282 \t - \t 61\n",
      "1.001105527638191 \t - \t 62\n",
      "1.0012060301507537 \t - \t 62\n",
      "1.0013065326633166 \t - \t 62\n",
      "1.0014070351758795 \t - \t 63\n",
      "1.0015075376884421 \t - \t 63\n",
      "1.001608040201005 \t - \t 63\n",
      "1.001708542713568 \t - \t 64\n",
      "1.0018090452261306 \t - \t 64\n",
      "1.0019095477386935 \t - \t 64\n",
      "1.0020100502512563 \t - \t 65\n",
      "1.002110552763819 \t - \t 65\n",
      "1.0022110552763819 \t - \t 65\n",
      "1.0023115577889448 \t - \t 66\n",
      "1.0024120603015076 \t - \t 66\n",
      "1.0025125628140703 \t - \t 66\n",
      "1.0026130653266332 \t - \t 67\n",
      "1.002713567839196 \t - \t 67\n",
      "1.0028140703517587 \t - \t 68\n",
      "1.0029145728643216 \t - \t 68\n",
      "1.0030150753768845 \t - \t 68\n",
      "1.0031155778894472 \t - \t 69\n",
      "1.00321608040201 \t - \t 69\n",
      "1.003316582914573 \t - \t 70\n",
      "1.0034170854271356 \t - \t 70\n",
      "1.0035175879396985 \t - \t 70\n",
      "1.0036180904522614 \t - \t 71\n",
      "1.003718592964824 \t - \t 71\n",
      "1.003819095477387 \t - \t 72\n",
      "1.0039195979899498 \t - \t 72\n",
      "1.0040201005025127 \t - \t 72\n",
      "1.0041206030150753 \t - \t 73\n",
      "1.0042211055276382 \t - \t 73\n",
      "1.004321608040201 \t - \t 74\n",
      "1.0044221105527638 \t - \t 74\n",
      "1.0045226130653266 \t - \t 75\n",
      "1.0046231155778895 \t - \t 75\n",
      "1.0047236180904522 \t - \t 76\n",
      "1.004824120603015 \t - \t 76\n",
      "1.004924623115578 \t - \t 77\n",
      "1.0050251256281406 \t - \t 77\n",
      "1.0051256281407035 \t - \t 78\n",
      "1.0052261306532664 \t - \t 78\n",
      "1.005326633165829 \t - \t 79\n",
      "1.005427135678392 \t - \t 79\n",
      "1.0055276381909548 \t - \t 80\n",
      "1.0056281407035177 \t - \t 80\n",
      "1.0057286432160804 \t - \t 81\n",
      "1.0058291457286432 \t - \t 81\n",
      "1.0059296482412061 \t - \t 82\n",
      "1.0060301507537688 \t - \t 82\n",
      "1.0061306532663317 \t - \t 83\n",
      "1.0062311557788945 \t - \t 83\n",
      "1.0063316582914572 \t - \t 84\n",
      "1.00643216080402 \t - \t 84\n",
      "1.006532663316583 \t - \t 85\n",
      "1.0066331658291456 \t - \t 86\n",
      "1.0067336683417085 \t - \t 86\n",
      "1.0068341708542714 \t - \t 87\n",
      "1.006934673366834 \t - \t 87\n",
      "1.007035175879397 \t - \t 88\n",
      "1.0071356783919598 \t - \t 89\n",
      "1.0072361809045227 \t - \t 89\n",
      "1.0073366834170854 \t - \t 90\n",
      "1.0074371859296483 \t - \t 90\n",
      "1.0075376884422111 \t - \t 91\n",
      "1.0076381909547738 \t - \t 92\n",
      "1.0077386934673367 \t - \t 92\n",
      "1.0078391959798996 \t - \t 93\n",
      "1.0079396984924622 \t - \t 94\n",
      "1.0080402010050251 \t - \t 94\n",
      "1.008140703517588 \t - \t 95\n",
      "1.0082412060301507 \t - \t 96\n",
      "1.0083417085427135 \t - \t 96\n",
      "1.0084422110552764 \t - \t 97\n",
      "1.0085427135678393 \t - \t 98\n",
      "1.008643216080402 \t - \t 99\n",
      "1.0087437185929649 \t - \t 99\n",
      "1.0088442211055277 \t - \t 100\n",
      "1.0089447236180904 \t - \t 101\n",
      "1.0090452261306533 \t - \t 102\n",
      "1.0091457286432162 \t - \t 102\n",
      "1.0092462311557788 \t - \t 103\n",
      "1.0093467336683417 \t - \t 104\n",
      "1.0094472361809046 \t - \t 105\n",
      "1.0095477386934673 \t - \t 106\n",
      "1.0096482412060301 \t - \t 106\n",
      "1.009748743718593 \t - \t 107\n",
      "1.0098492462311557 \t - \t 108\n",
      "1.0099497487437186 \t - \t 109\n",
      "1.0100502512562815 \t - \t 110\n",
      "1.0101507537688443 \t - \t 111\n",
      "1.010251256281407 \t - \t 112\n",
      "1.0103517587939699 \t - \t 113\n",
      "1.0104522613065328 \t - \t 114\n",
      "1.0105527638190954 \t - \t 115\n",
      "1.0106532663316583 \t - \t 116\n",
      "1.0107537688442212 \t - \t 117\n",
      "1.0108542713567839 \t - \t 118\n",
      "1.0109547738693467 \t - \t 119\n",
      "1.0110552763819096 \t - \t 120\n",
      "1.0111557788944723 \t - \t 121\n",
      "1.0112562814070352 \t - \t 122\n",
      "1.011356783919598 \t - \t 123\n",
      "1.0114572864321607 \t - \t 124\n",
      "1.0115577889447236 \t - \t 125\n",
      "1.0116582914572865 \t - \t 126\n",
      "1.0117587939698494 \t - \t 127\n",
      "1.011859296482412 \t - \t 128\n",
      "1.011959798994975 \t - \t 130\n",
      "1.0120603015075378 \t - \t 131\n",
      "1.0121608040201004 \t - \t 132\n",
      "1.0122613065326633 \t - \t 133\n",
      "1.0123618090452262 \t - \t 135\n",
      "1.0124623115577889 \t - \t 136\n",
      "1.0125628140703518 \t - \t 137\n",
      "1.0126633165829146 \t - \t 139\n",
      "1.0127638190954773 \t - \t 140\n",
      "1.0128643216080402 \t - \t 141\n",
      "1.012964824120603 \t - \t 143\n",
      "1.0130653266331657 \t - \t 144\n",
      "1.0131658291457286 \t - \t 146\n",
      "1.0132663316582915 \t - \t 147\n",
      "1.0133668341708544 \t - \t 149\n",
      "1.013467336683417 \t - \t 150\n",
      "1.01356783919598 \t - \t 152\n",
      "1.0136683417085428 \t - \t 153\n",
      "1.0137688442211055 \t - \t 155\n",
      "1.0138693467336684 \t - \t 157\n",
      "1.0139698492462312 \t - \t 158\n",
      "1.014070351758794 \t - \t 160\n",
      "1.0141708542713568 \t - \t 162\n",
      "1.0142713567839197 \t - \t 164\n",
      "1.0143718592964823 \t - \t 165\n",
      "1.0144723618090452 \t - \t 167\n",
      "1.014572864321608 \t - \t 169\n",
      "1.014673366834171 \t - \t 171\n",
      "1.0147738693467336 \t - \t 173\n",
      "1.0148743718592965 \t - \t 175\n",
      "1.0149748743718594 \t - \t 177\n",
      "1.015075376884422 \t - \t 179\n",
      "1.015175879396985 \t - \t 182\n",
      "1.0152763819095478 \t - \t 184\n",
      "1.0153768844221105 \t - \t 186\n",
      "1.0154773869346734 \t - \t 188\n",
      "1.0155778894472363 \t - \t 191\n",
      "1.015678391959799 \t - \t 193\n",
      "1.0157788944723618 \t - \t 196\n",
      "1.0158793969849247 \t - \t 198\n",
      "1.0159798994974873 \t - \t 201\n",
      "1.0160804020100502 \t - \t 204\n",
      "1.0161809045226131 \t - \t 206\n",
      "1.016281407035176 \t - \t 209\n",
      "1.0163819095477387 \t - \t 212\n",
      "1.0164824120603015 \t - \t 215\n",
      "1.0165829145728644 \t - \t 218\n",
      "1.016683417085427 \t - \t 221\n",
      "1.01678391959799 \t - \t 224\n",
      "1.0168844221105529 \t - \t 228\n",
      "1.0169849246231155 \t - \t 231\n",
      "1.0170854271356784 \t - \t 235\n",
      "1.0171859296482413 \t - \t 238\n",
      "1.017286432160804 \t - \t 242\n",
      "1.0173869346733668 \t - \t 246\n",
      "1.0174874371859297 \t - \t 250\n",
      "1.0175879396984924 \t - \t 254\n",
      "1.0176884422110553 \t - \t 258\n",
      "1.0177889447236181 \t - \t 262\n",
      "1.017889447236181 \t - \t 266\n",
      "1.0179899497487437 \t - \t 271\n",
      "1.0180904522613066 \t - \t 276\n",
      "1.0181909547738694 \t - \t 281\n",
      "1.0182914572864321 \t - \t 286\n",
      "1.018391959798995 \t - \t 291\n",
      "1.0184924623115579 \t - \t 296\n",
      "1.0185929648241205 \t - \t 302\n",
      "1.0186934673366834 \t - \t 308\n",
      "1.0187939698492463 \t - \t 314\n",
      "1.018894472361809 \t - \t 320\n",
      "1.0189949748743719 \t - \t 326\n",
      "1.0190954773869347 \t - \t 333\n",
      "1.0191959798994974 \t - \t 340\n",
      "1.0192964824120603 \t - \t 347\n",
      "1.0193969849246232 \t - \t 355\n",
      "1.019497487437186 \t - \t 362\n",
      "1.0195979899497487 \t - \t 371\n",
      "1.0196984924623116 \t - \t 379\n",
      "1.0197989949748745 \t - \t 388\n",
      "1.0198994974874371 \t - \t 398\n",
      "1.02 \t - \t 407\n"
     ]
    }
   ],
   "source": [
    "for i in np.linspace(1., 1.02, 200):\n",
    "    print(i, '\\t - \\t', relaxation(A, b, i, return_val='j'))"
   ]
  },
  {
   "cell_type": "markdown",
   "metadata": {},
   "source": [
    "С ростом $w$ число итераций только растёт, то есть оптимально здесь $w$, близкое к 1. При этом метод релаксации превращается итерационный процесс, эквивалентный методу Зейделя. То есть в данной задаче этот метод не даёт существенных выгод."
   ]
  }
 ],
 "metadata": {
  "accelerator": "GPU",
  "colab": {
   "name": "Linear_systems.ipynb",
   "provenance": [],
   "version": "0.3.2"
  },
  "kernelspec": {
   "display_name": "Python 3",
   "language": "python",
   "name": "python3"
  },
  "language_info": {
   "codemirror_mode": {
    "name": "ipython",
    "version": 3
   },
   "file_extension": ".py",
   "mimetype": "text/x-python",
   "name": "python",
   "nbconvert_exporter": "python",
   "pygments_lexer": "ipython3",
   "version": "3.5.3"
  }
 },
 "nbformat": 4,
 "nbformat_minor": 1
}

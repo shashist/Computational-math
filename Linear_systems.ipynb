{
  "nbformat": 4,
  "nbformat_minor": 0,
  "metadata": {
    "colab": {
      "name": "Linear_systems.ipynb",
      "version": "0.3.2",
      "provenance": []
    },
    "kernelspec": {
      "display_name": "Python 3",
      "language": "python",
      "name": "python3"
    },
    "accelerator": "GPU"
  },
  "cells": [
    {
      "metadata": {
        "id": "KV9MaiONB8Yh",
        "colab_type": "text"
      },
      "cell_type": "markdown",
      "source": [
        "Решить методами Гаусса и Зейделя, найти $\\lambda_{min}$ и $\\lambda_{max}$, определить число обусловленности матрицы $\\mu = \\|A\\| \\cdot \\|A^{-1}\\|$. Сделать печать невязок обоих методов. Указать критерий останова итераций метода Зейделя."
      ]
    },
    {
      "metadata": {
        "id": "jtgEBHrOB8Yk",
        "colab_type": "code",
        "colab": {
          "base_uri": "https://localhost:8080/",
          "height": 370
        },
        "outputId": "45c2eca7-64b3-49e4-cfd3-cf6c141b4983"
      },
      "cell_type": "code",
      "source": [
        "from math import sqrt, inf\n",
        "import numpy as np\n",
        "from numpy.linalg import inv\n",
        "from scipy.spatial.distance import euclidean\n",
        "\n",
        "def tridiag(a, b, c, k1=-1, k2=0, k3=1):\n",
        "    return np.diag(a, k1) + np.diag(b, k2) + np.diag(c, k3)\n",
        "\n",
        "a = [1] * 19\n",
        "b = [-2] * 20\n",
        "c = [1] * 19\n",
        "\n",
        "A = tridiag(a, b, c)\n",
        "A[0] = [1] + [0]*19\n",
        "A[-1] = [1] + [2]*18 + [1]\n",
        "\n",
        "b = np.array([1] + [2/i**2 for i in range(2, 21)])\n",
        "\n",
        "print(A)\n",
        "print(A.shape)"
      ],
      "execution_count": 151,
      "outputs": [
        {
          "output_type": "stream",
          "text": [
            "[[ 1  0  0  0  0  0  0  0  0  0  0  0  0  0  0  0  0  0  0  0]\n",
            " [ 1 -2  1  0  0  0  0  0  0  0  0  0  0  0  0  0  0  0  0  0]\n",
            " [ 0  1 -2  1  0  0  0  0  0  0  0  0  0  0  0  0  0  0  0  0]\n",
            " [ 0  0  1 -2  1  0  0  0  0  0  0  0  0  0  0  0  0  0  0  0]\n",
            " [ 0  0  0  1 -2  1  0  0  0  0  0  0  0  0  0  0  0  0  0  0]\n",
            " [ 0  0  0  0  1 -2  1  0  0  0  0  0  0  0  0  0  0  0  0  0]\n",
            " [ 0  0  0  0  0  1 -2  1  0  0  0  0  0  0  0  0  0  0  0  0]\n",
            " [ 0  0  0  0  0  0  1 -2  1  0  0  0  0  0  0  0  0  0  0  0]\n",
            " [ 0  0  0  0  0  0  0  1 -2  1  0  0  0  0  0  0  0  0  0  0]\n",
            " [ 0  0  0  0  0  0  0  0  1 -2  1  0  0  0  0  0  0  0  0  0]\n",
            " [ 0  0  0  0  0  0  0  0  0  1 -2  1  0  0  0  0  0  0  0  0]\n",
            " [ 0  0  0  0  0  0  0  0  0  0  1 -2  1  0  0  0  0  0  0  0]\n",
            " [ 0  0  0  0  0  0  0  0  0  0  0  1 -2  1  0  0  0  0  0  0]\n",
            " [ 0  0  0  0  0  0  0  0  0  0  0  0  1 -2  1  0  0  0  0  0]\n",
            " [ 0  0  0  0  0  0  0  0  0  0  0  0  0  1 -2  1  0  0  0  0]\n",
            " [ 0  0  0  0  0  0  0  0  0  0  0  0  0  0  1 -2  1  0  0  0]\n",
            " [ 0  0  0  0  0  0  0  0  0  0  0  0  0  0  0  1 -2  1  0  0]\n",
            " [ 0  0  0  0  0  0  0  0  0  0  0  0  0  0  0  0  1 -2  1  0]\n",
            " [ 0  0  0  0  0  0  0  0  0  0  0  0  0  0  0  0  0  1 -2  1]\n",
            " [ 1  2  2  2  2  2  2  2  2  2  2  2  2  2  2  2  2  2  2  1]]\n",
            "(20, 20)\n"
          ],
          "name": "stdout"
        }
      ]
    },
    {
      "metadata": {
        "id": "hTYZ1tuKB8Yx",
        "colab_type": "text"
      },
      "cell_type": "markdown",
      "source": [
        "## 1. Метод Гаусса"
      ]
    },
    {
      "metadata": {
        "id": "-V_GmjxtB8Yz",
        "colab_type": "code",
        "colab": {}
      },
      "cell_type": "code",
      "source": [
        "def gaussian_elimination(A, b):\n",
        "    n = len(A)\n",
        "    \n",
        "    if len(b) != n:\n",
        "        raise ValueError(\"Различаются размеры A и b\", n, len(b))\n",
        "        \n",
        "    for first_row in range(n - 1):\n",
        "        for row in range(first_row + 1, n):\n",
        "            multiplier = A[row][first_row] / A[first_row][first_row]\n",
        "            A[row][first_row] = multiplier\n",
        "            for col in range(first_row + 1, n):\n",
        "                A[row][col] = A[row][col] - multiplier*A[first_row][col]\n",
        "            b[row] = b[row] - multiplier*b[first_row]\n",
        "\n",
        "    x = np.zeros(n)\n",
        "    k = n - 1\n",
        "    x[k] = b[k] / A[k, k]\n",
        "    \n",
        "    while k >= 0:\n",
        "        x[k] = (b[k] - np.dot(A[k, k+1:], x[k+1:])) / A[k, k]\n",
        "        k = k - 1\n",
        "\n",
        "    return x"
      ],
      "execution_count": 0,
      "outputs": []
    },
    {
      "metadata": {
        "id": "akxUcG0rB8Y3",
        "colab_type": "code",
        "colab": {
          "base_uri": "https://localhost:8080/",
          "height": 101
        },
        "outputId": "1d51d244-caaa-428c-c96f-ffb921c79244"
      },
      "cell_type": "code",
      "source": [
        "x = gaussian_elimination(A.copy(), b.copy())\n",
        "error = np.dot(A, x) - b\n",
        "print(x)\n",
        "\n",
        "print(f\"Невязка: {error}\")"
      ],
      "execution_count": 80,
      "outputs": [
        {
          "output_type": "stream",
          "text": [
            "[ 1.          0.0857316  -0.32853681 -0.35631459 -0.25909236 -0.08187014\n",
            "  0.15090764  0.42450174  0.72934585]\n",
            "Невязка: [ 0.00000000e+00  0.00000000e+00  1.64268404e-01  0.00000000e+00\n",
            "  6.93889390e-17 -2.77555756e-17  4.85722573e-17  0.00000000e+00\n",
            "  4.44089210e-16]\n"
          ],
          "name": "stdout"
        }
      ]
    },
    {
      "metadata": {
        "id": "msvZzbnKB8Y8",
        "colab_type": "text"
      },
      "cell_type": "markdown",
      "source": [
        "## 2. Метод Зейделя"
      ]
    },
    {
      "metadata": {
        "id": "yeBtWendIpf6",
        "colab_type": "text"
      },
      "cell_type": "markdown",
      "source": [
        "$$\\mathbf {x} ^{(k+1)}=-(L+D)^{-1} U\\mathbf {x} ^{(k)} + (L+D)^{-1}\\mathbf {b} =  K\\mathbf {x} ^{(k)} + F$$\n",
        "\n",
        "$$\\text{В качестве критерия останова будем использовать }\\parallel Ax^{(k)}-b\\parallel \\le \\varepsilon$$"
      ]
    },
    {
      "metadata": {
        "id": "sK46sO73OO4M",
        "colab_type": "code",
        "colab": {}
      },
      "cell_type": "code",
      "source": [
        "L = np.tril(A, k=-1)\n",
        "D = np.diag(np.diag(A))\n",
        "U = np.triu(A, k=1)"
      ],
      "execution_count": 0,
      "outputs": []
    },
    {
      "metadata": {
        "id": "Y_iFwGUfbeEh",
        "colab_type": "code",
        "colab": {
          "base_uri": "https://localhost:8080/",
          "height": 118
        },
        "outputId": "3faac271-1a42-4dbf-d96c-1b71d15b1c0f"
      },
      "cell_type": "code",
      "source": [
        "Q = np.linalg.inv(D + L)\n",
        "K = -np.dot(Q,U)\n",
        "F = np.dot(Q, b)\n",
        "\n",
        "x = np.zeros_like(b)\n",
        "for j in range(1, ITERATION_LIMIT):\n",
        "    x_new = np.dot(K, x) + F\n",
        "    if np.linalg.norm(np.dot(A, x) - b) < 1e-15:\n",
        "#     if np.allclose(x, x_new, rtol=1e-20):\n",
        "        print('Потребовалось ', j, ' итераций')\n",
        "        break\n",
        "    x = x_new\n",
        "\n",
        "error = np.dot(A, x) - b\n",
        "print(f\"Невязка: {error}\")"
      ],
      "execution_count": 193,
      "outputs": [
        {
          "output_type": "stream",
          "text": [
            "Потребовалось  371  итераций\n",
            "Невязка: [ 0.00000000e+00  0.00000000e+00 -2.22044605e-16  0.00000000e+00\n",
            " -3.74700271e-16 -4.16333634e-16 -1.73472348e-16 -2.22044605e-16\n",
            " -1.11022302e-16 -9.36750677e-17 -5.55111512e-17  6.24500451e-17\n",
            "  1.26634814e-16  1.78676518e-16  3.90312782e-16  2.22044605e-16\n",
            "  1.05818132e-16  4.71844785e-16 -5.29090660e-17  1.15359111e-16]\n"
          ],
          "name": "stdout"
        }
      ]
    },
    {
      "metadata": {
        "id": "MQ-CMDe9B8ZC",
        "colab_type": "text"
      },
      "cell_type": "markdown",
      "source": [
        "#### Собственные значения и число обусловленности"
      ]
    },
    {
      "metadata": {
        "id": "ol-fst18B8ZD",
        "colab_type": "code",
        "colab": {
          "base_uri": "https://localhost:8080/",
          "height": 34
        },
        "outputId": "ffdb4414-2fa8-4dbd-b1da-5f702df29839"
      },
      "cell_type": "code",
      "source": [
        "print(max(np.linalg.eigvals(K)).real, min(np.linalg.eigvals(K)).real)"
      ],
      "execution_count": 187,
      "outputs": [
        {
          "output_type": "stream",
          "text": [
            "0.9119637897545003 -0.4060820436489216\n"
          ],
          "name": "stdout"
        }
      ]
    },
    {
      "metadata": {
        "id": "h3bixxAQB8ZI",
        "colab_type": "text"
      },
      "cell_type": "markdown",
      "source": [
        "$\\lambda_{max} \\approx 0.9119637897545003,\\ \\lambda_{min} \\approx -0.4060820436489216$"
      ]
    },
    {
      "metadata": {
        "id": "Zx957i0SB8ZJ",
        "colab_type": "code",
        "colab": {
          "base_uri": "https://localhost:8080/",
          "height": 34
        },
        "outputId": "667d70da-66f0-48d6-ab68-8e4da4a2231e"
      },
      "cell_type": "code",
      "source": [
        "print('Число обусловленности: ', np.linalg.cond(A))"
      ],
      "execution_count": 191,
      "outputs": [
        {
          "output_type": "stream",
          "text": [
            "Число обусловленности:  238.725557642878\n"
          ],
          "name": "stdout"
        }
      ]
    },
    {
      "metadata": {
        "id": "321GiQIWB8ZP",
        "colab_type": "text"
      },
      "cell_type": "markdown",
      "source": [
        "Получили, что наша задача не очень хорошо обусловлена. В частности из-за этого решения полученные 2 алгоритмами сильно отличаются."
      ]
    },
    {
      "metadata": {
        "id": "JGLV4NjRB8ZQ",
        "colab_type": "code",
        "colab": {
          "base_uri": "https://localhost:8080/",
          "height": 151
        },
        "outputId": "a4ff3ed9-4968-4477-99c6-b9c6882f79a2"
      },
      "cell_type": "code",
      "source": [
        "print('Метод Гаусса: ', gaussian_elimination(A.copy(), b.copy()))\n",
        "print('Метод Зейделя: ', x)"
      ],
      "execution_count": 194,
      "outputs": [
        {
          "output_type": "stream",
          "text": [
            "Метод Гаусса:  [ 1.         -0.78272809 -2.06545618 -2.09323396 -1.99601174 -1.81878952\n",
            " -1.58601174 -1.31241763 -1.00757353 -0.67803807 -0.3285026   0.03756178\n",
            "  0.41751506  0.80930266  1.21129433  1.6221749   2.04086797  2.46648145\n",
            "  2.89826777  3.33559426]\n",
            "Метод Зейделя:  [ 1.          0.04402653 -0.41194694 -0.64569819 -0.75444943 -0.78320068\n",
            " -0.75639637 -0.68877574 -0.5899051  -0.46634311 -0.32278112 -0.1626902\n",
            "  0.01128961  0.19710373  0.39312194  0.59802904  0.81074864  1.03038865\n",
            "  1.2562015   1.48755452]\n"
          ],
          "name": "stdout"
        }
      ]
    },
    {
      "metadata": {
        "id": "TTUTmTevB8ZX",
        "colab_type": "text"
      },
      "cell_type": "markdown",
      "source": [
        "## 3. Метод последовательной верхней релаксации"
      ]
    },
    {
      "metadata": {
        "id": "5COCQ74rWchy",
        "colab_type": "text"
      },
      "cell_type": "markdown",
      "source": [
        "$$\\mathbf {x} ^{(k+1)}=(D+\\omega L)^{-1}{\\big ((1 - \\omega)D - \\omega U {\\big )}\\mathbf {x} ^{(k)} + \\omega (D+\\omega L)^{-1}} \\mathbf {b} = K\\mathbf {x} ^{(k)} + F$$"
      ]
    },
    {
      "metadata": {
        "id": "W0vcmdIxTvyo",
        "colab_type": "code",
        "colab": {
          "base_uri": "https://localhost:8080/",
          "height": 118
        },
        "outputId": "6c8615a3-8dff-42e9-c508-4193de22916a"
      },
      "cell_type": "code",
      "source": [
        "w = 1.07\n",
        "Q = np.linalg.inv(D + w * L)\n",
        "K = np.dot(Q,((1.0 - w) * D - w * U))\n",
        "F = w*np.dot(Q, b)\n",
        "\n",
        "x = np.zeros_like(b)\n",
        "x_1 = np.dot(K, x) + F\n",
        "n = len(b)\n",
        "for j in range(1, ITERATION_LIMIT):\n",
        "    x_new = np.dot(K, x) + F\n",
        "    if np.linalg.norm(np.dot(A, x) - b) < 1e-15:\n",
        "        print('Потребовалось ', j, ' итераций')\n",
        "        break\n",
        "    x = x_new\n",
        "\n",
        "error = np.dot(A, x) - b\n",
        "print(f\"Невязка: {error}\")"
      ],
      "execution_count": 178,
      "outputs": [
        {
          "output_type": "stream",
          "text": [
            "Потребовалось  332  итераций\n",
            "Невязка: [-1.11022302e-16  1.11022302e-16 -2.22044605e-16 -2.22044605e-16\n",
            " -1.52655666e-16  2.77555756e-17 -1.73472348e-16  2.22044605e-16\n",
            "  3.33066907e-16  2.39391840e-16  2.77555756e-16  3.40005801e-16\n",
            "  2.27248775e-16  2.34187669e-16 -5.37764278e-17  0.00000000e+00\n",
            " -3.38271078e-16 -4.16333634e-16 -5.29090660e-17 -1.06685494e-16]\n"
          ],
          "name": "stdout"
        }
      ]
    },
    {
      "metadata": {
        "id": "3hiYuWdHFxky",
        "colab_type": "text"
      },
      "cell_type": "markdown",
      "source": [
        "Чтобы подобрать оптимальное значение $w$, воспользуемся байесовской оптимизацией"
      ]
    },
    {
      "metadata": {
        "id": "aaHBVOqkc0FJ",
        "colab_type": "code",
        "colab": {
          "base_uri": "https://localhost:8080/",
          "height": 34
        },
        "outputId": "c5b0365c-251a-4568-a769-c4baf31e3ce1"
      },
      "cell_type": "code",
      "source": [
        "from hyperopt import fmin, tpe, rand, hp\n",
        "\n",
        "# Будем искать оптимальное w на промежутке (1.0, 1.2)\n",
        "# после w=1.2 на данной матрице алгоритм перестаёт сходиться\n",
        "space = {'w': hp.uniform('w', 1.0, 1.2)}\n",
        "\n",
        "def f(params):\n",
        "    w = params['w']\n",
        "    Q = np.linalg.inv(D + w * L)\n",
        "    K = np.dot(Q,((1.0 - w) * D - w * U))\n",
        "    F = w*np.dot(Q, b)\n",
        "    x = np.zeros_like(b)\n",
        "    x_1 = np.dot(K, x) + F\n",
        "    n = len(b)\n",
        "    for j in range(1, ITERATION_LIMIT):\n",
        "        x_new = np.dot(K, x) + F\n",
        "        if np.linalg.norm(np.dot(A, x) - b) < 1e-15:\n",
        "            return j\n",
        "        x = x_new\n",
        "    return inf\n",
        "\n",
        "best = fmin(fn=f, space=space, algo=tpe.suggest, max_evals=1000)\n",
        "print(best)"
      ],
      "execution_count": 167,
      "outputs": [
        {
          "output_type": "stream",
          "text": [
            "{'w': 1.1477197729145185}\n"
          ],
          "name": "stdout"
        }
      ]
    },
    {
      "metadata": {
        "id": "uvNlvuWJHxK_",
        "colab_type": "text"
      },
      "cell_type": "markdown",
      "source": [
        "Данный метод позволил снизить число итераций с 371 до 305 (примерно на 18%)"
      ]
    },
    {
      "metadata": {
        "id": "MvRQ5kjWHHUb",
        "colab_type": "code",
        "colab": {
          "base_uri": "https://localhost:8080/",
          "height": 118
        },
        "outputId": "51587af1-e796-43ec-b8ba-ff1f790d1a9d"
      },
      "cell_type": "code",
      "source": [
        "w = best['w']\n",
        "Q = np.linalg.inv(D + w * L)\n",
        "K = np.dot(Q,((1.0 - w) * D - w * U))\n",
        "F = w*np.dot(Q, b)\n",
        "\n",
        "x = np.zeros_like(b)\n",
        "x_1 = np.dot(K, x) + F\n",
        "n = len(b)\n",
        "for j in range(1, ITERATION_LIMIT):\n",
        "    x_new = np.dot(K, x) + F\n",
        "    if np.linalg.norm(np.dot(A, x) - b) < 1e-15:\n",
        "        print('Потребовалось ', j, ' итераций')\n",
        "        break\n",
        "    x = x_new\n",
        "\n",
        "error = np.dot(A, x) - b\n",
        "print(f\"Невязка: {error}\")"
      ],
      "execution_count": 179,
      "outputs": [
        {
          "output_type": "stream",
          "text": [
            "Потребовалось  305  итераций\n",
            "Невязка: [ 4.44089210e-16  2.22044605e-16  0.00000000e+00  0.00000000e+00\n",
            "  6.93889390e-17  2.77555756e-17  4.85722573e-17 -2.22044605e-16\n",
            " -1.11022302e-16 -9.36750677e-17 -1.66533454e-16 -4.85722573e-17\n",
            " -2.79290480e-16 -4.33680869e-17 -5.37764278e-17  0.00000000e+00\n",
            "  1.05818132e-16  4.71844785e-16 -5.29090660e-17  1.15359111e-16]\n"
          ],
          "name": "stdout"
        }
      ]
    }
  ]
}

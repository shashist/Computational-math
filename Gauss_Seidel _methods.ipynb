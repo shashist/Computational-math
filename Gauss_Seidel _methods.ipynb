{
 "cells": [
  {
   "cell_type": "markdown",
   "metadata": {},
   "source": [
    "Решить методами Гаусса и Зейделя, найти $\\lambda_{min}$ и $\\lambda_{max}$, определить число обусловленности матрицы $\\mu = \\|A\\| \\cdot \\|A^{-1}\\|$. Сделать печать невязок обоих методов. Указать критерий останова итераций метода Зейделя."
   ]
  },
  {
   "cell_type": "code",
   "execution_count": 1,
   "metadata": {},
   "outputs": [
    {
     "name": "stdout",
     "output_type": "stream",
     "text": [
      "[[ 1  0  0  0  0  0  0  0  0  0  0  0  0  0  0  0  0  0  0  0]\n",
      " [ 1 -2  1  0  0  0  0  0  0  0  0  0  0  0  0  0  0  0  0  0]\n",
      " [ 0  1 -2  1  0  0  0  0  0  0  0  0  0  0  0  0  0  0  0  0]\n",
      " [ 0  0  1 -2  1  0  0  0  0  0  0  0  0  0  0  0  0  0  0  0]\n",
      " [ 0  0  0  1 -2  1  0  0  0  0  0  0  0  0  0  0  0  0  0  0]\n",
      " [ 0  0  0  0  1 -2  1  0  0  0  0  0  0  0  0  0  0  0  0  0]\n",
      " [ 0  0  0  0  0  1 -2  1  0  0  0  0  0  0  0  0  0  0  0  0]\n",
      " [ 0  0  0  0  0  0  1 -2  1  0  0  0  0  0  0  0  0  0  0  0]\n",
      " [ 0  0  0  0  0  0  0  1 -2  1  0  0  0  0  0  0  0  0  0  0]\n",
      " [ 0  0  0  0  0  0  0  0  1 -2  1  0  0  0  0  0  0  0  0  0]\n",
      " [ 0  0  0  0  0  0  0  0  0  1 -2  1  0  0  0  0  0  0  0  0]\n",
      " [ 0  0  0  0  0  0  0  0  0  0  1 -2  1  0  0  0  0  0  0  0]\n",
      " [ 0  0  0  0  0  0  0  0  0  0  0  1 -2  1  0  0  0  0  0  0]\n",
      " [ 0  0  0  0  0  0  0  0  0  0  0  0  1 -2  1  0  0  0  0  0]\n",
      " [ 0  0  0  0  0  0  0  0  0  0  0  0  0  1 -2  1  0  0  0  0]\n",
      " [ 0  0  0  0  0  0  0  0  0  0  0  0  0  0  1 -2  1  0  0  0]\n",
      " [ 0  0  0  0  0  0  0  0  0  0  0  0  0  0  0  1 -2  1  0  0]\n",
      " [ 0  0  0  0  0  0  0  0  0  0  0  0  0  0  0  0  1 -2  1  0]\n",
      " [ 0  0  0  0  0  0  0  0  0  0  0  0  0  0  0  0  0  1 -2  1]\n",
      " [ 1  2  2  2  2  2  2  2  2  2  2  2  2  2  2  2  2  2  2  1]]\n",
      "(20, 20)\n"
     ]
    }
   ],
   "source": [
    "import numpy as np\n",
    "\n",
    "def tridiag(a, b, c, k1=-1, k2=0, k3=1):\n",
    "    return np.diag(a, k1) + np.diag(b, k2) + np.diag(c, k3)\n",
    "\n",
    "a = [1] * 19\n",
    "b = [-2] * 20\n",
    "c = [1] * 19\n",
    "\n",
    "A = tridiag(a, b, c)\n",
    "A[0] = [1] + [0]*19\n",
    "A[-1] = [1] + [2]*18 + [1]\n",
    "\n",
    "b = np.array([1] + [2/i**2 for i in range(2, 21)])\n",
    "\n",
    "print(A)\n",
    "print(A.shape)"
   ]
  },
  {
   "cell_type": "markdown",
   "metadata": {},
   "source": [
    "## Метод Гаусса"
   ]
  },
  {
   "cell_type": "code",
   "execution_count": 2,
   "metadata": {},
   "outputs": [],
   "source": [
    "def gaussian_elimination(A, b):\n",
    "    n = len(A)\n",
    "    \n",
    "    if len(b) != n:\n",
    "        raise ValueError(\"Различаются размеры A и b\", n, len(b))\n",
    "        \n",
    "    for first_row in range(n - 1):\n",
    "        for row in range(first_row + 1, n):\n",
    "            multiplier = A[row][first_row] / A[first_row][first_row]\n",
    "            A[row][first_row] = multiplier\n",
    "            for col in range(first_row + 1, n):\n",
    "                A[row][col] = A[row][col] - multiplier*A[first_row][col]\n",
    "            b[row] = b[row] - multiplier*b[first_row]\n",
    "\n",
    "    x = np.zeros(n)\n",
    "    k = n - 1\n",
    "    x[k] = b[k] / A[k, k]\n",
    "    \n",
    "    while k >= 0:\n",
    "        x[k] = (b[k] - np.dot(A[k, k+1:], x[k+1:])) / A[k, k]\n",
    "        k = k - 1\n",
    "\n",
    "    return x"
   ]
  },
  {
   "cell_type": "code",
   "execution_count": 3,
   "metadata": {},
   "outputs": [
    {
     "name": "stdout",
     "output_type": "stream",
     "text": [
      "Невязка: [  0.00000000e+00   0.00000000e+00   1.03272809e+00  -2.22044605e-16\n",
      "   6.93889390e-17   2.77555756e-17   4.85722573e-17   0.00000000e+00\n",
      "  -1.11022302e-16   1.28369537e-16  -5.55111512e-17   6.93889390e-18\n",
      "   5.20417043e-18  -9.88792381e-17   5.72458747e-17   0.00000000e+00\n",
      "   1.05818132e-16   2.77555756e-17  -5.29090660e-17   1.66967135e-15]\n"
     ]
    }
   ],
   "source": [
    "x = gaussian_elimination(A.copy(), b.copy())\n",
    "error = np.dot(A, x) - b\n",
    "print(f\"Невязка: {error}\")"
   ]
  },
  {
   "cell_type": "markdown",
   "metadata": {},
   "source": [
    "## Метод Зейделя"
   ]
  },
  {
   "cell_type": "code",
   "execution_count": 4,
   "metadata": {},
   "outputs": [
    {
     "name": "stdout",
     "output_type": "stream",
     "text": [
      "Потребовалось  180  итераций\n",
      "Невязка: [  0.00000000e+00  -9.18734422e-10  -6.14777562e-10   2.20713670e-10\n",
      "   1.48175856e-09   2.98170469e-09   4.48008990e-09   5.71641845e-09\n",
      "   6.44691656e-09   6.47996125e-09   5.70592334e-09   4.11767948e-09\n",
      "   1.81897367e-09  -9.80902902e-10  -3.98612940e-09  -6.84549306e-09\n",
      "  -9.19255561e-09  -1.06905355e-08  -1.10767536e-08  -1.06685494e-16]\n"
     ]
    }
   ],
   "source": [
    "ITERATION_LIMIT = 1000\n",
    "\n",
    "# Критерием останова будет незначительное отличие ответа текущей итерации\n",
    "# от ответа предыдущей итерации. Возьмём например (10^-10).\n",
    "x = np.zeros_like(b)\n",
    "for j in range(1, ITERATION_LIMIT):\n",
    "    x_new = np.zeros_like(x)\n",
    "    \n",
    "    for i in range(A.shape[0]):\n",
    "        s1 = np.dot(A[i, :i], x_new[:i])\n",
    "        s2 = np.dot(A[i, i + 1:], x[i + 1:])\n",
    "        x_new[i] = (b[i] - s1 - s2) / A[i, i]\n",
    "\n",
    "    if np.allclose(x, x_new, rtol=1e-10):\n",
    "        print('Потребовалось ', j, ' итераций')\n",
    "        break\n",
    "    x = x_new\n",
    "\n",
    "error = np.dot(A, x) - b\n",
    "print(f\"Невязка: {error}\")"
   ]
  },
  {
   "cell_type": "markdown",
   "metadata": {},
   "source": [
    "## Собственные значения и число обусловленности"
   ]
  },
  {
   "cell_type": "code",
   "execution_count": 5,
   "metadata": {},
   "outputs": [
    {
     "name": "stdout",
     "output_type": "stream",
     "text": [
      "[ 1.7963219  -3.97272261 -3.89450294 -3.7589475  -3.59033389 -3.35456314\n",
      " -3.12333733 -2.80339085 -2.54944428 -2.16515869 -1.93766382 -0.10715371\n",
      " -0.10836552 -0.40444485 -0.42171898 -1.50902903 -1.35380547 -0.83563561\n",
      " -0.90610368  1.        ]\n"
     ]
    }
   ],
   "source": [
    "print(np.linalg.eigvals(A))"
   ]
  },
  {
   "cell_type": "markdown",
   "metadata": {},
   "source": [
    "$\\lambda_{max} \\approx 1.79632190314,\\ \\lambda_{min} \\approx -3.97272260681$"
   ]
  },
  {
   "cell_type": "code",
   "execution_count": 6,
   "metadata": {},
   "outputs": [
    {
     "name": "stdout",
     "output_type": "stream",
     "text": [
      "Число обусловленности:  238.725557643\n"
     ]
    }
   ],
   "source": [
    "print('Число обусловленности: ', np.linalg.cond(A))"
   ]
  },
  {
   "cell_type": "markdown",
   "metadata": {},
   "source": [
    "Получили, что наша задача не очень хорошо обусловлена. В частности из-за этого решения полученные 2 алгоритмами сильно отличаются."
   ]
  },
  {
   "cell_type": "code",
   "execution_count": 7,
   "metadata": {},
   "outputs": [
    {
     "name": "stdout",
     "output_type": "stream",
     "text": [
      "Метод Гаусса:  [ 1.         -0.78272809 -2.06545618 -2.09323396 -1.99601174 -1.81878952\n",
      " -1.58601174 -1.31241763 -1.00757353 -0.67803807 -0.3285026   0.03756178\n",
      "  0.41751506  0.80930266  1.21129433  1.6221749   2.04086797  2.46648145\n",
      "  2.89826777  3.33559426]\n",
      "Метод Зейделя:  [ 1.          0.04402652 -0.41194696 -0.64569822 -0.75444948 -0.78320074\n",
      " -0.75639644 -0.68877581 -0.58990517 -0.46634317 -0.32278116 -0.16269022\n",
      "  0.01128961  0.19710376  0.393122    0.59802912  0.81074873  1.03038875\n",
      "  1.2562016   1.4875546 ]\n"
     ]
    }
   ],
   "source": [
    "print('Метод Гаусса: ', gaussian_elimination(A.copy(), b.copy()))\n",
    "print('Метод Зейделя: ', x)"
   ]
  }
 ],
 "metadata": {
  "kernelspec": {
   "display_name": "Python 3",
   "language": "python",
   "name": "python3"
  },
  "language_info": {
   "codemirror_mode": {
    "name": "ipython",
    "version": 3
   },
   "file_extension": ".py",
   "mimetype": "text/x-python",
   "name": "python",
   "nbconvert_exporter": "python",
   "pygments_lexer": "ipython3",
   "version": "3.6.0"
  }
 },
 "nbformat": 4,
 "nbformat_minor": 2
}

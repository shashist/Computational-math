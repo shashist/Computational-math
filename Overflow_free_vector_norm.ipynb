{
 "cells": [
  {
   "cell_type": "markdown",
   "metadata": {},
   "source": [
    "## 1. Постановка задачи"
   ]
  },
  {
   "cell_type": "markdown",
   "metadata": {},
   "source": [
    "Нижеприведённая функция вычисляет норму вектора самым очевидным образом.\n",
    "\n",
    "Недостаток в том, что она не заботится о переполнении (overflow), поскольку хранить в памяти придётся норму вектора в квадрате.\n",
    "\n",
    "То есть при одинарной точности вместо максимальных $\\approx 10^{32}$ мы сможем посчитать лишь норму не больше $\\approx 10^{16}$, а при двойной - лишь $\\approx 10^{154}$ вместо $\\approx 10^{308}$."
   ]
  },
  {
   "cell_type": "code",
   "execution_count": 12,
   "metadata": {},
   "outputs": [],
   "source": [
    "from math import sqrt\n",
    "\n",
    "def naive_norm(vector):\n",
    "    n = len(vector)\n",
    "    g = 0.0\n",
    "    for i in range(n):\n",
    "        g = g + vector[i] ** 2\n",
    "    norm = sqrt(g)\n",
    "    # Будем печатать с 40 знаками после запятой.\n",
    "    print(\"{0:.40f}\".format(norm))"
   ]
  },
  {
   "cell_type": "markdown",
   "metadata": {},
   "source": [
    "## 2. Решение"
   ]
  },
  {
   "cell_type": "markdown",
   "metadata": {},
   "source": [
    "Попробуем исключить этот эффект и вычислять норму без извлечения квадратного корня. \n",
    "\n",
    "Для этого можно заметить, что операция сложения Пифагора (Pythagorean addition) $a \\bigoplus b = \\sqrt{a^2 + b^2}$ обладает свойством коммутативности.   \n",
    "То есть норма вектора $\\|w\\| = w_1 \\bigoplus w_2  \\bigoplus \\cdots \\bigoplus w_n$"
   ]
  },
  {
   "cell_type": "markdown",
   "metadata": {},
   "source": [
    "### 2.1 Сначала реализуем $w_1 \\bigoplus w_2$"
   ]
  },
  {
   "cell_type": "markdown",
   "metadata": {},
   "source": [
    "Для этого выберем больший и меньший элементы из пары. Будем проводить операции, не меняющие $w_1 \\bigoplus w_2$, так чтобы больший элемент увеличивался, а меньший уменьшался.\n",
    "\n",
    "Тогда в какой-то момент меньший элемент приблизится к 0, а больший станет значением $w_1 \\bigoplus w_2$ (так как эта величина останется неизменной)."
   ]
  },
  {
   "cell_type": "code",
   "execution_count": 63,
   "metadata": {},
   "outputs": [
    {
     "name": "stdout",
     "output_type": "stream",
     "text": [
      "iteration \t\tp\t \t\tq\t \t\tsqrt(p^2 + q^2)\n",
      "1 \t\t 4.986301369863014 \t 0.3698630136986301 \t\t 5.0\n",
      "2 \t\t 4.999999974188253 \t 0.0005080526329415358 \t\t 5.0\n",
      "3 \t\t 5.000000000000001 \t 1.311372652397091e-12 \t\t 5.000000000000001\n",
      "\n",
      " 5.0000000000000008881784197001252323389053\n"
     ]
    }
   ],
   "source": [
    "def pythag_verbosed(a, b):\n",
    "    p = max(abs(a), abs(b))\n",
    "    q = min(abs(a), abs(b))\n",
    "    print('iteration', '\\t\\tp\\t', '\\t\\tq\\t', '\\t\\tsqrt(p^2 + q^2)')\n",
    "    for i in range(3):\n",
    "        r = (q/p) ** 2\n",
    "        s = r / (4 + r)\n",
    "        p = p + 2*s*p\n",
    "        q = s * q\n",
    "        print(i+1, '\\t\\t', p, '\\t', q, '\\t\\t', sqrt(p**2 + q**2))\n",
    "\n",
    "    print('\\n', \"{0:.40f}\".format(p))\n",
    "\n",
    "pythag_verbosed(4., 3.)"
   ]
  },
  {
   "cell_type": "markdown",
   "metadata": {},
   "source": [
    "### 2.2 Затем на основе $w_1 \\bigoplus w_2$ реализуем $\\|w\\|$"
   ]
  },
  {
   "cell_type": "code",
   "execution_count": 86,
   "metadata": {},
   "outputs": [],
   "source": [
    "# Уберём вспомогательную печать\n",
    "def pythag(a, b):\n",
    "    p = max(abs(a), abs(b))\n",
    "    q = min(abs(a), abs(b))\n",
    "    for i in range(10):\n",
    "        r = (q/p) ** 2\n",
    "        p += 2*r*p / (4 + r)\n",
    "        q *= r / (4 + r)\n",
    "    return p\n",
    "\n",
    "def l2_norm(vector):\n",
    "    norm = 0.0\n",
    "    for i in range(len(vector)):\n",
    "        norm = pythag(norm, vector[i])\n",
    "    print(\"{0:.40f}\".format(norm))"
   ]
  },
  {
   "cell_type": "markdown",
   "metadata": {},
   "source": [
    "Ещё одна реализация, которая гораздо быстрее предыдущей (идея взята из [[3]](https://github.com/compute-io/l2norm))."
   ]
  },
  {
   "cell_type": "code",
   "execution_count": 85,
   "metadata": {},
   "outputs": [],
   "source": [
    "def overflow_free_norm(arr):\n",
    "    n = len(arr)\n",
    "    t = 0\n",
    "    s = 1\n",
    "    for i in range(n):\n",
    "        val = arr[i]\n",
    "        if abs(val) > t:\n",
    "            r = t / val\n",
    "            s = 1 + s*r*r\n",
    "            t = abs(val)\n",
    "        else:\n",
    "            r = val / t\n",
    "            s = s + r*r                    \n",
    "    print(\"{0:.40f}\".format(t * sqrt(s)))"
   ]
  },
  {
   "cell_type": "markdown",
   "metadata": {},
   "source": [
    "## 3. Сравнение алгоритмов"
   ]
  },
  {
   "cell_type": "markdown",
   "metadata": {},
   "source": [
    "### 3.1 По максимально вычисляемым значениям нормы"
   ]
  },
  {
   "cell_type": "code",
   "execution_count": 121,
   "metadata": {},
   "outputs": [],
   "source": [
    "import numpy as np\n",
    "from mpmath import norm, nprint\n",
    "\n",
    "# Идеальное значение нормы с n знаками после запятой.\n",
    "def ideal_norm_approx(arr, n=40):\n",
    "    return nprint(norm(arr), n)"
   ]
  },
  {
   "cell_type": "markdown",
   "metadata": {},
   "source": [
    "$$\\|w\\| \\approx 10^{154}$$"
   ]
  },
  {
   "cell_type": "code",
   "execution_count": 107,
   "metadata": {},
   "outputs": [
    {
     "name": "stdout",
     "output_type": "stream",
     "text": [
      "[  9.45237223e+151   2.51075378e+151   6.53872650e+151 ...,\n",
      "   8.85356716e+151   2.56828039e+151   5.04993779e+151]\n",
      "1.826189462478474745885823072421031881282e+154\n"
     ]
    }
   ],
   "source": [
    "# Сгенерируем случайный массив размером 1х10^5 и умножим все его элементы на 10^152\n",
    "test_array = np.random.rand(1, 10**5)[0]*1e152\n",
    "print(test_array)\n",
    "ideal_norm_approx(test_array)"
   ]
  },
  {
   "cell_type": "code",
   "execution_count": 108,
   "metadata": {},
   "outputs": [
    {
     "name": "stdout",
     "output_type": "stream",
     "text": [
      "inf\n",
      "Wall time: 90.9 ms\n"
     ]
    },
    {
     "name": "stderr",
     "output_type": "stream",
     "text": [
      "c:\\users\\user\\appdata\\local\\programs\\python\\python36\\lib\\site-packages\\ipykernel_launcher.py:7: RuntimeWarning: overflow encountered in double_scalars\n",
      "  import sys\n"
     ]
    }
   ],
   "source": [
    "%%time\n",
    "naive_norm(test_array)"
   ]
  },
  {
   "cell_type": "code",
   "execution_count": 109,
   "metadata": {},
   "outputs": [
    {
     "name": "stdout",
     "output_type": "stream",
     "text": [
      "18261894624784655167784374565229784421878327119802932696207659022301546681644772685014643718162813237387393971021566578023995193875576665855529449196355584.0000000000000000000000000000000000000000\n",
      "Wall time: 112 ms\n"
     ]
    }
   ],
   "source": [
    "%%time\n",
    "overflow_free_norm(test_array)"
   ]
  },
  {
   "cell_type": "markdown",
   "metadata": {},
   "source": [
    "$$\\|w\\| \\approx 10^{307}$$"
   ]
  },
  {
   "cell_type": "code",
   "execution_count": 118,
   "metadata": {},
   "outputs": [
    {
     "name": "stdout",
     "output_type": "stream",
     "text": [
      "[  1.48448906e+304   3.16777361e+304   5.30970223e+304 ...,\n",
      "   3.35884336e+304   9.81995552e+304   6.92926087e+304]\n",
      "1.826861177388183835127298016278927518223e+307\n"
     ]
    }
   ],
   "source": [
    "test_array = np.random.rand(1, 10**5)[0]*1e305\n",
    "print(test_array)\n",
    "ideal_norm_approx(test_array)"
   ]
  },
  {
   "cell_type": "code",
   "execution_count": 119,
   "metadata": {},
   "outputs": [
    {
     "name": "stdout",
     "output_type": "stream",
     "text": [
      "18268611773881918184885361551581741437139746525739292086136900951082630832360924013726655647634279621045917434436490993373163159295842937024079027238566007191240315343907066098583818650206528411600667531114686865754501064962635263332254822665403930315768719921511511873240713389574659023122704699028293025792.0000000000000000000000000000000000000000\n",
      "Wall time: 119 ms\n"
     ]
    }
   ],
   "source": [
    "%%time\n",
    "overflow_free_norm(test_array)"
   ]
  },
  {
   "cell_type": "markdown",
   "metadata": {},
   "source": [
    "Видно, что \"наивный\" алгоритм достиг переполнения уже при норме $\\approx 10^{154}$, тогда как наш алгоритм продолжает работать до $\\approx 10^{307}$, что и было спрогнозировано в начале. Также видно, что получаемые значения совпадают с истиннными примерно до 12 знаков после запятой. То есть алгоритм корректен."
   ]
  },
  {
   "cell_type": "markdown",
   "metadata": {},
   "source": [
    "### 3.2 По времени выполнения"
   ]
  },
  {
   "cell_type": "code",
   "execution_count": 72,
   "metadata": {},
   "outputs": [],
   "source": [
    "from time import time\n",
    "\n",
    "def time_comparison(algo):\n",
    "    n_range = np.linspace(10**4, 10**7, 10)\n",
    "    time_range = []\n",
    "    for n in n_range:\n",
    "        test_array = np.random.rand(1, int(n))[0]\n",
    "        start_time = time()\n",
    "        algo(test_array)\n",
    "        finish_time = time()\n",
    "        time_range.append(finish_time - start_time)\n",
    "    return n_range, time_range"
   ]
  },
  {
   "cell_type": "code",
   "execution_count": 73,
   "metadata": {
    "collapsed": true
   },
   "outputs": [
    {
     "name": "stdout",
     "output_type": "stream",
     "text": [
      "57.9621917837991773581052257213741540908813\n",
      "611.2201294218913290023920126259326934814453\n",
      "862.7752637067702607964747585356235504150391\n",
      "1055.0912469397137556370580568909645080566406\n",
      "1218.0928858265358485368778929114341735839844\n",
      "1361.5071176163096424716059118509292602539062\n",
      "1491.0437104136315156210912391543388366699219\n",
      "1609.9367138562431591708445921540260314941406\n",
      "1721.5277553072526188771007582545280456542969\n",
      "1825.7755260186711439018836244940757751464844\n"
     ]
    }
   ],
   "source": [
    "n1, time1 = time_comparison(naive_norm)\n",
    "n2, time2 = time_comparison(l2norm)"
   ]
  },
  {
   "cell_type": "code",
   "execution_count": 120,
   "metadata": {},
   "outputs": [
    {
     "data": {
      "image/png": "[encoded data removed]",
      "text/plain": [
       "<matplotlib.figure.Figure at 0x20357abbbe0>"
      ]
     },
     "metadata": {
      "needs_background": "light"
     },
     "output_type": "display_data"
    }
   ],
   "source": [
    "import matplotlib.pyplot as plt\n",
    "%matplotlib inline\n",
    "from pylab import rcParams\n",
    "rcParams['figure.figsize'] = 10, 7\n",
    "\n",
    "plt.plot(n1, time1, label='Naive')\n",
    "plt.plot(n2, time2, 'r', label='Overflow free')\n",
    "plt.xlabel('Array size')\n",
    "plt.ylabel('Time, s')\n",
    "plt.grid()\n",
    "plt.legend();"
   ]
  },
  {
   "cell_type": "markdown",
   "metadata": {},
   "source": [
    "## 4. Выводы"
   ]
  },
  {
   "cell_type": "markdown",
   "metadata": {},
   "source": [
    "- Реализован алгоритм, вычисляющий норму вектора практически до порога overflow. То есть раннего переполнения почти нет.\n",
    "- Скорость этого алгоритма сравнима с \"наивным\".\n",
    "- При этом алгоритм не зависит от архитектуры, на которой исполняется (может работать и с арифметикой, отличной от IEEE)."
   ]
  },
  {
   "cell_type": "markdown",
   "metadata": {},
   "source": [
    "### Источники\n",
    "\n",
    "[1] [Replacing Square Roots by Pythagorean Sums](https://blogs.mathworks.com/images/cleve/moler_morrison.pdf)\n",
    "\n",
    "[2] [A Portable Fortran Program To Find\n",
    "the Euclidean Norm of a Vector](http://degiorgi.math.hr/aaa_sem/Float_Norm/p15-blue.pdf)\n",
    "\n",
    "[3] [https://github.com/compute-io/l2norm](https://github.com/compute-io/l2norm)"
   ]
  }
 ],
 "metadata": {
  "kernelspec": {
   "display_name": "Python 3",
   "language": "python",
   "name": "python3"
  },
  "language_info": {
   "codemirror_mode": {
    "name": "ipython",
    "version": 3
   },
   "file_extension": ".py",
   "mimetype": "text/x-python",
   "name": "python",
   "nbconvert_exporter": "python",
   "pygments_lexer": "ipython3",
   "version": "3.6.0"
  }
 },
 "nbformat": 4,
 "nbformat_minor": 2
}
